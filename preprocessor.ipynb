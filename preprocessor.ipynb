{
  "nbformat": 4,
  "nbformat_minor": 0,
  "metadata": {
    "colab": {
      "name": "preprocessor.ipynb",
      "provenance": [],
      "collapsed_sections": [],
      "toc_visible": true
    },
    "kernelspec": {
      "name": "python3",
      "display_name": "Python 3"
    },
    "accelerator": "GPU"
  },
  "cells": [
    {
      "cell_type": "markdown",
      "metadata": {
        "id": "bxsXTLO2eSs7",
        "colab_type": "text"
      },
      "source": [
        "## Preprocessing the data"
      ]
    },
    {
      "cell_type": "code",
      "metadata": {
        "id": "rO95Up8eeKjd",
        "colab_type": "code",
        "outputId": "4f7ec7b7-3710-432c-a636-2188764a9285",
        "colab": {
          "base_uri": "https://localhost:8080/",
          "height": 54
        }
      },
      "source": [
        "from google.colab import drive\n",
        "drive.mount('/content/drive')"
      ],
      "execution_count": 0,
      "outputs": [
        {
          "output_type": "stream",
          "text": [
            "Drive already mounted at /content/drive; to attempt to forcibly remount, call drive.mount(\"/content/drive\", force_remount=True).\n"
          ],
          "name": "stdout"
        }
      ]
    },
    {
      "cell_type": "code",
      "metadata": {
        "id": "RIU1bh_UeQSs",
        "colab_type": "code",
        "outputId": "52edef02-1cb4-41fd-c9fb-c082770ec75f",
        "colab": {
          "base_uri": "https://localhost:8080/",
          "height": 52
        }
      },
      "source": [
        "%cd /content/drive/My Drive\n",
        "!mkdir project\n",
        "%cd project"
      ],
      "execution_count": 0,
      "outputs": [
        {
          "output_type": "stream",
          "text": [
            "/content/drive/My Drive\n",
            "/content/drive/My Drive/project\n"
          ],
          "name": "stdout"
        }
      ]
    },
    {
      "cell_type": "markdown",
      "metadata": {
        "id": "7hNKwpH2ezQx",
        "colab_type": "text"
      },
      "source": [
        "**Download the kitti dataset**"
      ]
    },
    {
      "cell_type": "code",
      "metadata": {
        "id": "0XQq-LHOedpb",
        "colab_type": "code",
        "outputId": "1aa8c4e7-1da8-42c7-a84d-60ecb0f38651",
        "colab": {
          "base_uri": "https://localhost:8080/",
          "height": 407
        }
      },
      "source": [
        "!wget https://s3.eu-central-1.amazonaws.com/avg-kitti/data_object_image_2.zip\n",
        "!wget https://s3.eu-central-1.amazonaws.com/avg-kitti/data_object_label_2.zip"
      ],
      "execution_count": 0,
      "outputs": [
        {
          "output_type": "stream",
          "text": [
            "--2019-11-30 23:28:38--  https://s3.eu-central-1.amazonaws.com/avg-kitti/data_object_image_2.zip\n",
            "Resolving s3.eu-central-1.amazonaws.com (s3.eu-central-1.amazonaws.com)... 52.219.74.191\n",
            "Connecting to s3.eu-central-1.amazonaws.com (s3.eu-central-1.amazonaws.com)|52.219.74.191|:443... connected.\n",
            "HTTP request sent, awaiting response... 200 OK\n",
            "Length: 12569945557 (12G) [application/zip]\n",
            "Saving to: ‘data_object_image_2.zip’\n",
            "\n",
            "data_object_image_2 100%[===================>]  11.71G  58.8MB/s    in 3m 24s  \n",
            "\n",
            "2019-11-30 23:32:03 (58.7 MB/s) - ‘data_object_image_2.zip’ saved [12569945557/12569945557]\n",
            "\n",
            "--2019-11-30 23:32:04--  https://s3.eu-central-1.amazonaws.com/avg-kitti/data_object_label_2.zip\n",
            "Resolving s3.eu-central-1.amazonaws.com (s3.eu-central-1.amazonaws.com)... 52.219.74.60\n",
            "Connecting to s3.eu-central-1.amazonaws.com (s3.eu-central-1.amazonaws.com)|52.219.74.60|:443... connected.\n",
            "HTTP request sent, awaiting response... 200 OK\n",
            "Length: 5601213 (5.3M) [application/zip]\n",
            "Saving to: ‘data_object_label_2.zip’\n",
            "\n",
            "data_object_label_2 100%[===================>]   5.34M  --.-KB/s    in 0.1s    \n",
            "\n",
            "2019-11-30 23:32:05 (47.2 MB/s) - ‘data_object_label_2.zip’ saved [5601213/5601213]\n",
            "\n"
          ],
          "name": "stdout"
        }
      ]
    },
    {
      "cell_type": "code",
      "metadata": {
        "id": "WWwYs-UCefp6",
        "colab_type": "code",
        "colab": {}
      },
      "source": [
        "%%capture\n",
        "!unzip data_object_image_2.zip\n",
        "!unzip data_object_label_2.zip"
      ],
      "execution_count": 0,
      "outputs": []
    },
    {
      "cell_type": "code",
      "metadata": {
        "id": "hVOEh-dQei-0",
        "colab_type": "code",
        "outputId": "41d22630-505a-40c6-dc73-123977f62aa5",
        "colab": {
          "base_uri": "https://localhost:8080/",
          "height": 34
        }
      },
      "source": [
        "!mkdir kitti_data \n",
        "!mkdir kitti_data/checkpoints\n",
        "%cd kitti_data"
      ],
      "execution_count": 0,
      "outputs": [
        {
          "output_type": "stream",
          "text": [
            "/content/drive/My Drive/project/kitti_data\n"
          ],
          "name": "stdout"
        }
      ]
    },
    {
      "cell_type": "markdown",
      "metadata": {
        "id": "piCEt60xewtU",
        "colab_type": "text"
      },
      "source": [
        "**Create a list of full path names of images and labels**"
      ]
    },
    {
      "cell_type": "code",
      "metadata": {
        "id": "HUt4UsVser3r",
        "colab_type": "code",
        "colab": {}
      },
      "source": [
        "!find '/content/drive/My Drive/project/training/image_2/' -name \"*png\" | sort > images.txt \n",
        "!find '/content/drive/My Drive/project/training/label_2/' -name \"*txt\" | sort > labels.txt"
      ],
      "execution_count": 0,
      "outputs": []
    },
    {
      "cell_type": "markdown",
      "metadata": {
        "id": "ULqP6Safe-Jg",
        "colab_type": "text"
      },
      "source": [
        "**Split training and validation set**"
      ]
    },
    {
      "cell_type": "code",
      "metadata": {
        "id": "piAJxvVme6Sx",
        "colab_type": "code",
        "colab": {}
      },
      "source": [
        "import random\n",
        "import numpy as np\n",
        "\n",
        "def train_val_split(img_file, ytrue_file, train_scale, val_scale):\n",
        "    \"\"\"Given a two files containing the list of images and ground truth path,\n",
        "    Split them into train set and validation set.\n",
        "    \"\"\"\n",
        "    with open(img_file) as imgs:\n",
        "        img_names = imgs.read().splitlines()\n",
        "    imgs.close()\n",
        "    with open(ytrue_file) as ytrues:\n",
        "        ytrue_names = ytrues.read().splitlines()\n",
        "    ytrues.close()\n",
        "\n",
        "    shuffled = list(zip(img_names, ytrue_names))\n",
        "    random.shuffle(shuffled)\n",
        "    img_names, ytrue_names = zip(*shuffled)\n",
        "\n",
        "    train_end_idx = int(np.floor(len(img_names) * train_scale))\n",
        "    val_end_idx =  int(np.floor(len(img_names) * (train_scale + val_scale)))\n",
        "\n",
        "    assert len(img_names) == len(ytrue_names)\n",
        "    # Generate the train set\n",
        "    with open(\"img_train.txt\", 'w') as img_train:\n",
        "        img_train.write(\"\\n\". join(img_names[0:train_end_idx]))\n",
        "    img_train.close()\n",
        "    with open(\"ytrue_train.txt\", 'w') as ytrue_train:\n",
        "        ytrue_train.write(\"\\n\". join(ytrue_names[0:train_end_idx]))\n",
        "    ytrue_train.close()\n",
        "    # Generate the validation set\n",
        "    with open(\"img_val.txt\", 'w') as img_val:\n",
        "        img_val.write(\"\\n\". join(img_names[train_end_idx:val_end_idx]))\n",
        "    img_val.close()\n",
        "    with open(\"ytrue_val.txt\", 'w') as ytrue_val:\n",
        "        ytrue_val.write(\"\\n\". join(ytrue_names[train_end_idx:val_end_idx]))\n",
        "    ytrue_val.close()\n",
        "    print(\"Training set and validation set splitted\")"
      ],
      "execution_count": 0,
      "outputs": []
    },
    {
      "cell_type": "code",
      "metadata": {
        "id": "yNkLC3TJhUxa",
        "colab_type": "code",
        "outputId": "6573487b-2fd5-458b-ea0d-7cfc8b32712d",
        "colab": {
          "base_uri": "https://localhost:8080/",
          "height": 34
        }
      },
      "source": [
        "train_val_split(\"images.txt\", \"labels.txt\", 0.8, 0.2)"
      ],
      "execution_count": 0,
      "outputs": [
        {
          "output_type": "stream",
          "text": [
            "Training set and validation set splitted\n"
          ],
          "name": "stdout"
        }
      ]
    },
    {
      "cell_type": "markdown",
      "metadata": {
        "id": "NmTWposXLpB_",
        "colab_type": "text"
      },
      "source": [
        "**Download kitti raw data for video demo**"
      ]
    },
    {
      "cell_type": "code",
      "metadata": {
        "id": "AoOLu-GeLxE0",
        "colab_type": "code",
        "outputId": "fd207c22-e222-4d33-8cc7-49dcd820c8e6",
        "colab": {
          "base_uri": "https://localhost:8080/",
          "height": 250
        }
      },
      "source": [
        "%cd /content/drive/My Drive/project/\n",
        "!wget https://s3.eu-central-1.amazonaws.com/avg-kitti/raw_data/2011_09_26_drive_0009/2011_09_26_drive_0009_extract.zip"
      ],
      "execution_count": 0,
      "outputs": [
        {
          "output_type": "stream",
          "text": [
            "/content/drive/My Drive/project\n",
            "--2019-11-30 23:48:53--  https://s3.eu-central-1.amazonaws.com/avg-kitti/raw_data/2011_09_26_drive_0009/2011_09_26_drive_0009_extract.zip\n",
            "Resolving s3.eu-central-1.amazonaws.com (s3.eu-central-1.amazonaws.com)... 52.219.73.187\n",
            "Connecting to s3.eu-central-1.amazonaws.com (s3.eu-central-1.amazonaws.com)|52.219.73.187|:443... connected.\n",
            "HTTP request sent, awaiting response... 200 OK\n",
            "Length: 2664742329 (2.5G) [application/zip]\n",
            "Saving to: ‘2011_09_26_drive_0009_extract.zip’\n",
            "\n",
            "2011_09_26_drive_00 100%[===================>]   2.48G  60.2MB/s    in 48s     \n",
            "\n",
            "2019-11-30 23:49:41 (53.0 MB/s) - ‘2011_09_26_drive_0009_extract.zip’ saved [2664742329/2664742329]\n",
            "\n"
          ],
          "name": "stdout"
        }
      ]
    },
    {
      "cell_type": "code",
      "metadata": {
        "id": "n1L7uA4vL0io",
        "colab_type": "code",
        "colab": {}
      },
      "source": [
        "%%capture\n",
        "!unzip 2011_09_26_drive_0009_extract.zip"
      ],
      "execution_count": 0,
      "outputs": []
    },
    {
      "cell_type": "code",
      "metadata": {
        "id": "KfUts0EYN1IR",
        "colab_type": "code",
        "outputId": "156a6571-e67a-444b-d23a-47d24046d6be",
        "colab": {
          "base_uri": "https://localhost:8080/",
          "height": 34
        }
      },
      "source": [
        "%cd /content/drive/My Drive/project/kitti_data\n",
        "!find '/content/drive/My Drive/project/2011_09_26/2011_09_26_drive_0009_extract/image_02/' -name \"*png\" | sort > images_video.txt\n",
        "!mkdir video_img\n",
        "!mkdir patch_matching_img"
      ],
      "execution_count": 0,
      "outputs": [
        {
          "output_type": "stream",
          "text": [
            "/content/drive/My Drive/project/kitti_data\n"
          ],
          "name": "stdout"
        }
      ]
    }
  ]
}